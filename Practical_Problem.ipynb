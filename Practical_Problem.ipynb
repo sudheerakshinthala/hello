
    "# Problem Solving (intermediate Level) - Test_1"
  
    "Q1. What is the difference between list and tuples in Python?"
	lists are mutable   	tuble is immutable
	list have large memory	tuple have less memory
	list are []		tuples are ()

    "Q2. What are the key features of Python?"
	python is objected oriented, dynamically typed, easy and portable,interpreted language,high level language
   
    "Q3. What type of language is python? Programming or scripting?"
	python is interpreted language and it is both programming and scripting language

    "Q4.Python an interpreted language. Explain."
	it execute the line by line during the compile time only
   
    "Q5. What is pass in Python?"
	when pass statement is executed nothing will happend even if the code is empty you wont get error.
    "Q6. What is the use of self in Python?"
	 self represents the instance of a class,it will access the attributes and mlethoids in python.
 
    "Q7. How can I make a tuple out of a list?"
 	list=[1,2,3,4,5]
	tuple=(list(0),list(1),list(2),list(3))

    "Q8. In Python, what is a negative index?"
	it is one of the string slicing method ,and by negative indexing the elements will print from last in a particular list or string.

    "Q9. In Python, how do you create random numbers?"
	import random
	print(random.randint(a,b))
  
    "Q10. How do you print the summation of all the numbers from 1 to 101?"
	sum=0
	for i in range(1,102):
		sum+=i
	print(sum)
 
    "Q11. Is it possible to construct a Python program that calculates the mean of numbers in a list?"
	yes,l=[2,4,7,3,7,9]
	n=len(l)
	sum=0
	for i in l:
   	    sum+=i
	avg=sum/n
	print(avg)

    "Q12. Python program that reverses a number?"
	  num=123
	  sum=0
            while num!=0:
           digit=num%10
           sum=sum*10+digit
           num//=10
           print(sum)
    "Q13. Python program to swap any two numbers without using temperary variable?"
	 a=6
	 b=8
	a=a+b
	b=a-b
	a=a-b
	print(a),print(b)

    "Q14. Python program to find the fibbonacci series?"
	def fib(n):
    a=0
    b=1
    if n==1:
        print(a)
    else:
        print(a)
        print(b)
    for i in range(2,n):
        c=a+b
        a=b
        b=c
        print(c)
fib(10)
    "Q15. Python Program to find the area of traingle, circle and rectangle."
b=int(input("enter the breadth"))
h=int(input("enter the height"))
r=int(input("enter the radius"))
l=int(input("enter the length"))
b1=int(input("enter the breadth"))
t=1/2*b*h
c=3.13*r**2
r=l*b1
print(t)
print(c)
print(r)


